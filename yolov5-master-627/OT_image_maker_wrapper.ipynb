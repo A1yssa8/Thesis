{
 "cells": [
  {
   "attachments": {},
   "cell_type": "markdown",
   "metadata": {},
   "source": [
    "# Welcome to OT as Plate filler script \n",
    "\n",
    "start with choosing the number of plates that you want to run and then continue on to setting up the deck. \n",
    "\n",
    "FIND SCRIPT ON ROBOT OT028 IN FOLDER Vilhelms_sandbox"
   ]
  },
  {
   "cell_type": "code",
   "execution_count": 5,
   "metadata": {},
   "outputs": [
    {
     "name": "stderr",
     "output_type": "stream",
     "text": [
      "'systemctl' is not recognized as an internal or external command,\n",
      "operable program or batch file.\n"
     ]
    }
   ],
   "source": [
    "## insures that robot is correctly initialized\n",
    "!systemctl stop opentrons-robot-server"
   ]
  },
  {
   "cell_type": "code",
   "execution_count": 6,
   "metadata": {},
   "outputs": [
    {
     "ename": "ModuleNotFoundError",
     "evalue": "No module named 'opentrons'",
     "output_type": "error",
     "traceback": [
      "\u001b[1;31m---------------------------------------------------------------------------\u001b[0m",
      "\u001b[1;31mModuleNotFoundError\u001b[0m                       Traceback (most recent call last)",
      "Cell \u001b[1;32mIn[6], line 15\u001b[0m\n\u001b[0;32m     13\u001b[0m \u001b[39mfrom\u001b[39;00m \u001b[39mtime\u001b[39;00m \u001b[39mimport\u001b[39;00m sleep\n\u001b[0;32m     14\u001b[0m \u001b[39m# # Import opentrons.execute\u001b[39;00m\n\u001b[1;32m---> 15\u001b[0m \u001b[39mimport\u001b[39;00m \u001b[39mopentrons\u001b[39;00m\u001b[39m.\u001b[39;00m\u001b[39mexecute\u001b[39;00m\n",
      "\u001b[1;31mModuleNotFoundError\u001b[0m: No module named 'opentrons'"
     ]
    }
   ],
   "source": [
    "# import the script you wnat to run \n",
    "import sys\n",
    "import pandas as pd\n",
    "import os, shutil\n",
    "# from datetime import datetime\n",
    "from IPython.display import Markdown as md\n",
    "# ## start email and camera functions\n",
    "import subprocess\n",
    "import smtplib\n",
    "import datetime\n",
    "from datetime import date\n",
    "import os\n",
    "from time import sleep\n",
    "# # Import opentrons.execute\n",
    "import opentrons.execute\n"
   ]
  },
  {
   "attachments": {},
   "cell_type": "markdown",
   "metadata": {},
   "source": [
    "# Initiate Robot "
   ]
  },
  {
   "cell_type": "code",
   "execution_count": null,
   "metadata": {},
   "outputs": [],
   "source": [
    "\n",
    "# import datetime\n",
    "from opentrons import types\n",
    "from time import sleep\n",
    "\n",
    "\n",
    "def camera(name_of_image, protocol): \n",
    "    \"\"\" Take picture with the OT camera, runs bash command \n",
    "    input: users name of image\n",
    "    output: image in directory \n",
    "    \"\"\"\n",
    "\n",
    "    # camerapath = '/dev/video0'\n",
    "    # camerapath = '/dev/video1'\n",
    "    camerapath = '/dev/video2'\n",
    "    subprocess.check_call(['ffmpeg', '-y', '-f', 'video4linux2', '-s',\n",
    "                       '640x480', '-i', camerapath, '-ss', '0:0:1', \n",
    "                       '-frames', '1', os.path.abspath('.') + '/pictures/' + name_of_image +'.jpg']) \n",
    "\n",
    "\n",
    "    print('Cammera on')\n",
    "\n",
    "protocol = opentrons.execute.get_protocol_api('2.11')\n",
    "\n",
    "protocol.home()\n"
   ]
  },
  {
   "cell_type": "code",
   "execution_count": null,
   "metadata": {},
   "outputs": [],
   "source": [
    "protocol = opentrons.execute.get_protocol_api('2.11')\n",
    "\n",
    "##### RUN CODE ON OPENTRONS\n",
    "p300tips = [protocol.load_labware('opentrons_96_tiprack_300ul', 11)]\n",
    "p300 = protocol.load_instrument('p300_multi', 'right', tip_racks=p300tips)\n",
    "\n",
    "fake_plate = protocol.load_labware('agilent_1_reservoir_290ml', 6)\n",
    "\n",
    "microplate_type = 'nest_96_wellplate_200ul_flat'\n",
    "microplates = [protocol.load_labware(microplate_type, s) for s in ['4']]\n",
    "\n",
    "hight = 20\n",
    "center_location = fake_plate['A1'].top()\n",
    "combe_move_right = center_location.move(types.Point(x=50, y=0, z=hight))\n",
    "combe_move_left = center_location.move(types.Point(x=-50, y=0, z=hight))"
   ]
  },
  {
   "attachments": {},
   "cell_type": "markdown",
   "metadata": {},
   "source": [
    "# Start Run"
   ]
  },
  {
   "cell_type": "code",
   "execution_count": null,
   "metadata": {},
   "outputs": [],
   "source": [
    "# Take picture of end run\n",
    "\n",
    "## Turn on lights while running run\n",
    "protocol.set_rail_lights(True)\n",
    "\n",
    "image_name = 'NoTips'\n",
    "## LOOP START\n",
    "for i in range(20):\n",
    "    p300.pick_up_tip(p300tips[0]['A1'])\n",
    "    p300.aspirate(150, microplates[0]['A1'].bottom(1))\n",
    "    p300.move_to(combe_move_right)\n",
    "    camera(f'{image_name}_{i}', protocol)\n",
    "    p300.dispense(160, microplates[0]['A1'].bottom(1))\n",
    "    p300.return_tip(p300tips[0]['A1'])\n",
    "protocol.home()\n",
    "\n",
    "## Turn on lights while running run\n",
    "protocol.set_rail_lights(False)\n",
    "\n",
    "print('Your protocol is finished well done!')"
   ]
  },
  {
   "cell_type": "code",
   "execution_count": null,
   "metadata": {},
   "outputs": [],
   "source": [
    "# decode output to dict\n",
    "def output_decode(completed_process):\n",
    "    output = completed_process.stdout\n",
    "    output = output.strip()\n",
    "    output_str = output.decode()\n",
    "    output_dict = eval(output_str)\n",
    "    return output_dict"
   ]
  },
  {
   "cell_type": "code",
   "execution_count": null,
   "metadata": {},
   "outputs": [],
   "source": [
    "# detect tip amount and output\n",
    "def detect_tip(output_dict):\n",
    "# # 遍历字典中的键值对\n",
    "    has_tip_in_key = False\n",
    "    has_full_tips = False\n",
    "    for key, value in output_dict.items():\n",
    "        if 'tip' in key and value != 8:\n",
    "            p300.pause(\"error\")\n",
    "            has_tip_in_key = True\n",
    "            # 添加终止程序的逻辑\n",
    "            print(f\"tip: {key}, value: {value}\", 'not 8')\n",
    "        if 'tip' in key and value == 8:\n",
    "            print(f\"tip: {key}, value: {value}\")\n",
    "            has_tip_in_key = True\n",
    "            has_full_tips = True\n",
    "    if not has_tip_in_key:\n",
    "        # 如果所有键中都没有 'tip'，输出特定的消息\n",
    "        p300.pause(\"error\")\n",
    "        print(\"no tips\")\n",
    "    return has_full_tips"
   ]
  },
  {
   "cell_type": "code",
   "execution_count": null,
   "metadata": {},
   "outputs": [],
   "source": [
    "\n",
    "## Turn on lights while running run\n",
    "protocol.set_rail_lights(False)\n",
    "\n",
    "print('Your protocol is finished well done!')"
   ]
  },
  {
   "cell_type": "code",
   "execution_count": null,
   "metadata": {},
   "outputs": [
    {
     "data": {
      "text/plain": [
       "CompletedProcess(args=['python', 'D:\\\\thesis\\\\yolov5-master\\\\detect-label.py', '--source', 'D:\\\\thesis\\\\yolov5-master\\\\test-image\\\\test1.jpg', '--save-txt'], returncode=0)"
      ]
     },
     "execution_count": 5,
     "metadata": {},
     "output_type": "execute_result"
    }
   ],
   "source": [
    "import subprocess\n",
    "import json\n",
    "\n",
    "#file_path = 'D:\\\\thesis\\yolov5-master\\detect-label.py'\n",
    "#source = 'D:\\\\thesis\\yolov5-master\\\\test-image\\\\test1.jpg'\n",
    "\n",
    "\n",
    "## Turn on lights while running run\n",
    "protocol.set_rail_lights(True)\n",
    "\n",
    "#change image_name\n",
    "image_name = 'NoTips'\n",
    "\n",
    "#saved image\n",
    "source = '/dev/video2/'\n",
    "\n",
    "#detect file\n",
    "file_path = 'D:\\\\thesis\\yolov5-master\\detect_label_single.py'\n",
    "arguments = [\"--source\", source,'--save-txt']\n",
    "\n",
    "## LOOP START\n",
    "for i in range(20):\n",
    "    source_name = f'{image_name}_{i+1}'\n",
    "    source_path = f'{source}{source_name}'\n",
    "    #take tips\n",
    "    p300.pick_up_tip(p300tips[0]['A1'])\n",
    "    #go to camera\n",
    "    p300.move_to(combe_move_right)\n",
    "    camera(source_name, protocol)\n",
    "    #camera path: camerapath = '/dev/video2'\n",
    "    completed_process = subprocess.run([\"python\", file_path] + arguments, capture_output=True, text=True)\n",
    "    output = json.loads(completed_process.stdout)\n",
    "    has_full_tips = detect_tip(output)\n",
    "    if has_full_tips:\n",
    "        p300.aspirate(150, microplates[0]['A1'].bottom(1))\n",
    "        p300.move_to(combe_move_right)\n",
    "        camera(source_name, protocol) #Overwrite the previous image file\n",
    "        completed_process = subprocess.run([\"python\", file_path] + arguments, capture_output=True, text=True)\n",
    "        output = json.loads(completed_process.stdout)\n",
    "        for key, value in output.items():\n",
    "            if 'liquid' in key :\n",
    "                print(f\"liquid: {key}, value: {value}\")\n",
    "    p300.dispense(160, microplates[0]['A1'].bottom(1))\n",
    "    p300.return_tip(p300tips[0]['A1'])\n",
    "    protocol.home()\n",
    "\n",
    "## Turn on lights while running run\n",
    "protocol.set_rail_lights(False)\n",
    "\n",
    "print('Your protocol is finished well done!')\n",
    "             "
   ]
  },
  {
   "cell_type": "code",
   "execution_count": 4,
   "metadata": {},
   "outputs": [
    {
     "name": "stdout",
     "output_type": "stream",
     "text": [
      "\n"
     ]
    }
   ],
   "source": [
    "import subprocess\n",
    "\n",
    "file_path = 'D:\\\\thesis\\yolov5-master\\detect_label.py'\n",
    "source = 'D:\\thesis\\yolov5-master\\test-image\\test2.jpg'\n",
    "\n",
    "arguments = [\"--source\", source,'--save-txt']\n",
    "\n",
    "completed_process = subprocess.run([\"python\", file_path] + arguments, capture_output=True, text=True)\n",
    "\n",
    "output = completed_process.stdout\n",
    "\n",
    "print(output)  # 处理输出结果"
   ]
  },
  {
   "attachments": {},
   "cell_type": "markdown",
   "metadata": {},
   "source": [
    "# MY PLAN\n",
    "# tips no water\n",
    "# tips with water \n",
    "# tips with Red water \n",
    "# No tips on pipet\n",
    "# tipsEmptyResdual\n",
    "\n",
    "# tips with X(color) water \n",
    "\n",
    "HOW TO EXTRACT CODE FROM OT: \n",
    "- OPEN WSL OR UBUNTU ON YOUR COMPUTER\n",
    "- WRITE: sudo scp -i ot2_ssh_key -r root@10.199.253.233:/var/lib/jupyter/notebooks/Vilhelms_sandbox/pictures /mnt/c/Intel/\n",
    "- GO TO Intel folder on C drive on your computer and find the file there. "
   ]
  }
 ],
 "metadata": {
  "kernelspec": {
   "display_name": "Python 3 (ipykernel)",
   "language": "python",
   "name": "python3"
  },
  "language_info": {
   "codemirror_mode": {
    "name": "ipython",
    "version": 3
   },
   "file_extension": ".py",
   "mimetype": "text/x-python",
   "name": "python",
   "nbconvert_exporter": "python",
   "pygments_lexer": "ipython3",
   "version": "3.10.10"
  },
  "vscode": {
   "interpreter": {
    "hash": "6bc994cc37a7cc8253d60b1d36e8779e20c5990ee498caff788f1956921a521b"
   }
  }
 },
 "nbformat": 4,
 "nbformat_minor": 2
}

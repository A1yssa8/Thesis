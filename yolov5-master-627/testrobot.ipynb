{
 "cells": [
  {
   "cell_type": "code",
   "execution_count": 10,
   "metadata": {},
   "outputs": [
    {
     "name": "stdout",
     "output_type": "stream",
     "text": [
      "[[0.37421876192092896, 0.4583333432674408, 0.04531250149011612, 0.512499988079071], [0.4312500059604645, 0.4572916626930237, 0.05000000074505806, 0.518750011920929], [0.48906248807907104, 0.4583333432674408, 0.046875, 0.512499988079071], [0.659375011920929, 0.4572916626930237, 0.05000000074505806, 0.5104166865348816], [0.602343738079071, 0.45625001192092896, 0.04843749850988388, 0.5208333134651184], [0.3179687559604645, 0.4635416567325592, 0.04531250149011612, 0.5020833611488342], [0.2601562440395355, 0.4625000059604645, 0.04843749850988388, 0.5166666507720947], [0.5453125238418579, 0.45520833134651184, 0.046875, 0.5062500238418579]]\n"
     ]
    }
   ],
   "source": [
    "import subprocess\n",
    "import json\n",
    "\n",
    "file_path = 'D:\\\\thesis\\yolov5-master\\detect_label_single.py'\n",
    "source = 'D:\\\\thesis\\yolov5-master\\\\test-image\\\\test-different-type\\\\test2.jpg'\n",
    "\n",
    "arguments = [\"--source\", source,'--save-txt']\n",
    "\n",
    "completed_process1 = subprocess.run([\"python\", file_path] + arguments, capture_output=True, text=True)\n",
    "\n",
    "output = completed_process1.stdout.split('\\n')\n",
    "class_dict1 = output[0] \n",
    "bbox_dict1 = output[1]\n",
    "class_dict = json.loads(class_dict1) \n",
    "bbox_dict = json.loads(bbox_dict1)"
   ]
  },
  {
   "cell_type": "code",
   "execution_count": null,
   "metadata": {},
   "outputs": [],
   "source": [
    "def find_key_value_by_keyword(dictionary, keyword):\n",
    "    key_value_dict = {key: value for key, value in dictionary.items() if keyword in key and value}\n",
    "    return key_value_dict"
   ]
  },
  {
   "cell_type": "code",
   "execution_count": 11,
   "metadata": {},
   "outputs": [
    {
     "name": "stdout",
     "output_type": "stream",
     "text": [
      "[[0.37421876192092896, 0.4583333432674408, 0.04531250149011612, 0.512499988079071], [0.4312500059604645, 0.4572916626930237, 0.05000000074505806, 0.518750011920929], [0.48906248807907104, 0.4583333432674408, 0.046875, 0.512499988079071], [0.659375011920929, 0.4572916626930237, 0.05000000074505806, 0.5104166865348816], [0.602343738079071, 0.45625001192092896, 0.04843749850988388, 0.5208333134651184], [0.3179687559604645, 0.4635416567325592, 0.04531250149011612, 0.5020833611488342], [0.2601562440395355, 0.4625000059604645, 0.04843749850988388, 0.5166666507720947], [0.5453125238418579, 0.45520833134651184, 0.046875, 0.5062500238418579]]\n"
     ]
    }
   ],
   "source": [
    "tips = find_key_value_by_keyword(bbox_dict, 'tip')\n",
    "tips = list(tips.values())\n",
    "tmp_tips = list()\n",
    "for tip in tips[0]:\n",
    "    tmp_tips.append(tip['bbox'])\n",
    "print(tmp_tips)"
   ]
  },
  {
   "cell_type": "code",
   "execution_count": 13,
   "metadata": {},
   "outputs": [
    {
     "name": "stdout",
     "output_type": "stream",
     "text": [
      "[[0.55078125, 0.5718749761581421, 0.02968749962747097, 0.2854166626930237], [0.37421876192092896, 0.5770833492279053, 0.02968749962747097, 0.28333333134651184], [0.25703126192092896, 0.581250011920929, 0.02968749962747097, 0.28333333134651184], [0.4320312440395355, 0.5770833492279053, 0.02968749962747097, 0.27916666865348816], [0.49140626192092896, 0.5739583373069763, 0.02968749962747097, 0.2854166626930237], [0.66796875, 0.5760416388511658, 0.03281249850988388, 0.2854166626930237], [0.31640625, 0.5770833492279053, 0.02968749962747097, 0.2750000059604645], [0.609375, 0.5718749761581421, 0.03125, 0.2770833373069763]]\n"
     ]
    }
   ],
   "source": [
    "liquids = find_key_value_by_keyword(bbox_dict, 'liquid')\n",
    "liquids = list(liquids.values())\n",
    "tmp_liquid = list()\n",
    "for liquid in liquids[0]:\n",
    "    tmp_liquid.append(liquid['bbox'])\n",
    "print(tmp_liquid)"
   ]
  },
  {
   "cell_type": "code",
   "execution_count": 40,
   "metadata": {},
   "outputs": [],
   "source": [
    "def match_boxes(boxes1, boxes2, threshold):\n",
    "    matched_boxes = []\n",
    "\n",
    "    for box1 in boxes1:\n",
    "        min_distance = float('inf')\n",
    "        matched_box = None\n",
    "\n",
    "        for box2 in boxes2:\n",
    "            distance = abs(box1[0] - box2[0])\n",
    "            if distance < min_distance:\n",
    "                min_distance = distance\n",
    "                matched_box = box2\n",
    "\n",
    "        if matched_box is not None:\n",
    "            liquid_level = abs(box1[1] / matched_box[1])\n",
    "            # 预警\n",
    "            if liquid_level < threshold:\n",
    "                print(f'Warning: Liquid level is below the threshold! Current level: {liquid_level}')\n",
    "            else:\n",
    "                print('no warning')\n",
    "            matched_boxes.append((box1, matched_box))\n",
    "\n",
    "    return"
   ]
  },
  {
   "cell_type": "code",
   "execution_count": 43,
   "metadata": {},
   "outputs": [
    {
     "name": "stdout",
     "output_type": "stream",
     "text": [
      "no warning\n",
      "no warning\n",
      "no warning\n",
      "no warning\n",
      "no warning\n",
      "no warning\n",
      "no warning\n",
      "no warning\n"
     ]
    }
   ],
   "source": [
    "match_boxes(tmp_tips,tmp_liquid,0.3)"
   ]
  }
 ],
 "metadata": {
  "kernelspec": {
   "display_name": "thesis",
   "language": "python",
   "name": "python3"
  },
  "language_info": {
   "codemirror_mode": {
    "name": "ipython",
    "version": 3
   },
   "file_extension": ".py",
   "mimetype": "text/x-python",
   "name": "python",
   "nbconvert_exporter": "python",
   "pygments_lexer": "ipython3",
   "version": "3.10.10"
  },
  "orig_nbformat": 4
 },
 "nbformat": 4,
 "nbformat_minor": 2
}
